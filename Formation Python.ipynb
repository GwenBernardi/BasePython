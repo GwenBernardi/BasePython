{
 "cells": [
  {
   "cell_type": "raw",
   "metadata": {},
   "source": [
    "FORMATION PYTHON :"
   ]
  },
  {
   "cell_type": "code",
   "execution_count": 27,
   "metadata": {},
   "outputs": [
    {
     "name": "stdout",
     "output_type": "stream",
     "text": [
      "<class 'dict'>\n"
     ]
    }
   ],
   "source": [
    "################# Variables et Types ####################\n",
    "\n",
    "variable = 12.2      # Nombre à virgule : float\n",
    "test_2 = \"salut\" # Chaine de caractère : str\n",
    "test_3 = 45      # Nombre entier : int\n",
    "test_4 = False   # Boolean : bool // False\n",
    "\n",
    "test_5 = [\"lait\",\"Oeuf\", \"Fromage\", 45, False, [\"ert\"] ] # Listes\n",
    "\n",
    "print(type(test_6))\n"
   ]
  },
  {
   "cell_type": "code",
   "execution_count": 61,
   "metadata": {},
   "outputs": [
    {
     "name": "stdout",
     "output_type": "stream",
     "text": [
      "False\n"
     ]
    }
   ],
   "source": [
    "###################### Opérateurs #######################\n",
    "\n",
    "# Opérations Mathématiques\n",
    "ma_variable = 45 + 45\n",
    "ma_variable_str = \"test\" + \"test\"\n",
    "\n",
    "ma_variable_2 = 45 - 45\n",
    "\n",
    "ma_variable_3 = 45 * 45\n",
    "ma_variable_au_carre = 5**3\n",
    "\n",
    "ma_variable_str = \"test\" * 3\n",
    "\n",
    "ma_variable_4 = 45 / 45\n",
    "mon_reste = 32%5\n",
    "mon_quotient = 32//5\n",
    "\n",
    "# Opérateurs d'affectations\n",
    "ma_variable = 45 # =\n",
    "\n",
    "ma_variable = ma_variable + 15\n",
    "ma_variable += 15\n",
    "\n",
    "ma_variable = ma_variable / 15\n",
    "ma_variable /= 15\n",
    "\n",
    "ma_variable = ma_variable * 4\n",
    "ma_variable *= 4\n",
    "\n",
    "\n",
    "# Opérateurs de comparaison\n",
    "\n",
    "test_1 = 28\n",
    "test_2 = 27\n",
    "\n",
    "resultat = test_1 > test_2 # Plus grand que\n",
    "resultat = test_1 >= test_2 # Plus grand ou égal que\n",
    "\n",
    "resultat = test_1 < test_2 # Plus petit que\n",
    "resultat = test_1 <= test_2 # Plus petit ou égal que\n",
    "\n",
    "resultat = test_1 == test_2 # est égal\n",
    "resultat = test_1 != test_2 # pas égal\n",
    "\n",
    "resultat = not test_1 > test_2 # ce n'est Plus grand que\n",
    "\n",
    "print(resultat)"
   ]
  },
  {
   "cell_type": "code",
   "execution_count": 73,
   "metadata": {},
   "outputs": [
    {
     "name": "stdout",
     "output_type": "stream",
     "text": [
      "Est égal à \n"
     ]
    }
   ],
   "source": [
    "###################### Conditions #######################\n",
    "test_1 = 27\n",
    "test_2 = 27\n",
    "\n",
    "if test_1 > test_2:        # Si condition :\n",
    "    print(\"Plus grand que\")\n",
    "elif test_1 == test_2:     # Sinon\n",
    "    print(\"Est égal à \")\n",
    "else:                      # Sinon\n",
    "    print(\"Plus petit que\")"
   ]
  },
  {
   "cell_type": "code",
   "execution_count": 4,
   "metadata": {},
   "outputs": [
    {
     "name": "stdout",
     "output_type": "stream",
     "text": [
      "Valeur :5\n"
     ]
    }
   ],
   "source": [
    "######################## Boucles ########################\n",
    "liste_de_course = [\"oeuf\",\"viande\",\"lait\"]\n",
    "\n",
    "for nombre in range(0,14): # Pour nombre dans l'intervalle 0 à 13\n",
    "    pass\n",
    "\n",
    "for element in liste_de_course:\n",
    "    pass \n",
    "\n",
    "condition = False\n",
    "while condition == False: # tant que\n",
    "    valeur_user = input(\"Valeur :\")\n",
    "    \n",
    "    if valeur_user == \"5\":\n",
    "        condition = True"
   ]
  },
  {
   "cell_type": "code",
   "execution_count": 13,
   "metadata": {},
   "outputs": [
    {
     "name": "stdout",
     "output_type": "stream",
     "text": [
      "20\n"
     ]
    }
   ],
   "source": [
    "######################## Fonctions ######################\n",
    "\n",
    "def nom_fonction(parametre_1, parametre_2): # Création d'une fonction\n",
    "\n",
    "    return parametre_1 * parametre_2\n",
    "\n",
    "resultat = nom_fonction(4, 5)\n",
    "print(resultat)"
   ]
  },
  {
   "cell_type": "code",
   "execution_count": 25,
   "metadata": {},
   "outputs": [
    {
     "name": "stdout",
     "output_type": "stream",
     "text": [
      "45\n",
      "8\n",
      "9\n",
      "[1, 7, 2, 5, 6, 47, 65, 45, 78]\n",
      "[1, 7, 2, 5, 6, 47, 65, 45]\n",
      "45\n"
     ]
    }
   ],
   "source": [
    "######################### Listes ########################\n",
    "\n",
    "liste = [1,7,2,5,6,47,65,45]\n",
    "\n",
    "print(liste[7]) # En programmation on compte a partir de 0\n",
    "\n",
    "print(len(liste)) #longueur\n",
    "\n",
    "liste.append(78) # Ajout\n",
    "print(len(liste)) #longueur\n",
    "print(liste)\n",
    "\n",
    "del liste[8] # Suppression\n",
    "\n",
    "print(liste)\n"
   ]
  },
  {
   "cell_type": "code",
   "execution_count": 14,
   "metadata": {},
   "outputs": [
    {
     "name": "stdout",
     "output_type": "stream",
     "text": [
      "148.4131591025766\n"
     ]
    }
   ],
   "source": [
    "####################### Les modules #####################\n",
    "import math # Bout de code et qu'on utilise\n",
    "\n",
    "print(math.exp(5))\n",
    "\n"
   ]
  },
  {
   "cell_type": "code",
   "execution_count": null,
   "metadata": {},
   "outputs": [],
   "source": []
  }
 ],
 "metadata": {
  "kernelspec": {
   "display_name": "Python 3.6.8 64-bit",
   "language": "python",
   "name": "python36864bita0729ee99e624eefa05c45f6ff5292a0"
  },
  "language_info": {
   "codemirror_mode": {
    "name": "ipython",
    "version": 3
   },
   "file_extension": ".py",
   "mimetype": "text/x-python",
   "name": "python",
   "nbconvert_exporter": "python",
   "pygments_lexer": "ipython3",
   "version": "3.6.8"
  }
 },
 "nbformat": 4,
 "nbformat_minor": 4
}
